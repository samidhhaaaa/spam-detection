{
 "cells": [
  {
   "cell_type": "code",
   "execution_count": 22,
   "id": "35d6b862-f793-4789-93b6-2d3a912c6615",
   "metadata": {},
   "outputs": [
    {
     "name": "stdout",
     "output_type": "stream",
     "text": [
      "Requirement already satisfied: pandas in c:\\users\\burma\\anaconda3\\lib\\site-packages (2.2.2)\n",
      "Requirement already satisfied: scikit-learn in c:\\users\\burma\\anaconda3\\lib\\site-packages (1.4.2)\n",
      "Requirement already satisfied: nltk in c:\\users\\burma\\anaconda3\\lib\\site-packages (3.8.1)\n",
      "Requirement already satisfied: numpy in c:\\users\\burma\\anaconda3\\lib\\site-packages (1.26.4)\n",
      "Requirement already satisfied: matplotlib in c:\\users\\burma\\anaconda3\\lib\\site-packages (3.8.4)\n",
      "Requirement already satisfied: python-dateutil>=2.8.2 in c:\\users\\burma\\anaconda3\\lib\\site-packages (from pandas) (2.9.0.post0)\n",
      "Requirement already satisfied: pytz>=2020.1 in c:\\users\\burma\\anaconda3\\lib\\site-packages (from pandas) (2024.1)\n",
      "Requirement already satisfied: tzdata>=2022.7 in c:\\users\\burma\\anaconda3\\lib\\site-packages (from pandas) (2023.3)\n",
      "Requirement already satisfied: scipy>=1.6.0 in c:\\users\\burma\\anaconda3\\lib\\site-packages (from scikit-learn) (1.13.1)\n",
      "Requirement already satisfied: joblib>=1.2.0 in c:\\users\\burma\\anaconda3\\lib\\site-packages (from scikit-learn) (1.4.2)\n",
      "Requirement already satisfied: threadpoolctl>=2.0.0 in c:\\users\\burma\\anaconda3\\lib\\site-packages (from scikit-learn) (2.2.0)\n",
      "Requirement already satisfied: click in c:\\users\\burma\\anaconda3\\lib\\site-packages (from nltk) (8.1.7)\n",
      "Requirement already satisfied: regex>=2021.8.3 in c:\\users\\burma\\anaconda3\\lib\\site-packages (from nltk) (2023.10.3)\n",
      "Requirement already satisfied: tqdm in c:\\users\\burma\\anaconda3\\lib\\site-packages (from nltk) (4.66.4)\n",
      "Requirement already satisfied: contourpy>=1.0.1 in c:\\users\\burma\\anaconda3\\lib\\site-packages (from matplotlib) (1.2.0)\n",
      "Requirement already satisfied: cycler>=0.10 in c:\\users\\burma\\anaconda3\\lib\\site-packages (from matplotlib) (0.11.0)\n",
      "Requirement already satisfied: fonttools>=4.22.0 in c:\\users\\burma\\anaconda3\\lib\\site-packages (from matplotlib) (4.51.0)\n",
      "Requirement already satisfied: kiwisolver>=1.3.1 in c:\\users\\burma\\anaconda3\\lib\\site-packages (from matplotlib) (1.4.4)\n",
      "Requirement already satisfied: packaging>=20.0 in c:\\users\\burma\\anaconda3\\lib\\site-packages (from matplotlib) (23.2)\n",
      "Requirement already satisfied: pillow>=8 in c:\\users\\burma\\anaconda3\\lib\\site-packages (from matplotlib) (10.3.0)\n",
      "Requirement already satisfied: pyparsing>=2.3.1 in c:\\users\\burma\\anaconda3\\lib\\site-packages (from matplotlib) (3.0.9)\n",
      "Requirement already satisfied: six>=1.5 in c:\\users\\burma\\anaconda3\\lib\\site-packages (from python-dateutil>=2.8.2->pandas) (1.16.0)\n",
      "Requirement already satisfied: colorama in c:\\users\\burma\\anaconda3\\lib\\site-packages (from click->nltk) (0.4.6)\n",
      "Note: you may need to restart the kernel to use updated packages.\n"
     ]
    }
   ],
   "source": [
    "pip install pandas scikit-learn nltk numpy matplotlib"
   ]
  },
  {
   "cell_type": "code",
   "execution_count": 262,
   "id": "0271a52f-f85a-455c-a227-ca835b959b1d",
   "metadata": {},
   "outputs": [
    {
     "name": "stdout",
     "output_type": "stream",
     "text": [
      "                                            v1,v2,,,\n",
      "0  ham,\"Go until jurong point, crazy.. Available ...\n",
      "1               ham,Ok lar... Joking wif u oni...,,,\n",
      "2  spam,Free entry in 2 a wkly comp to win FA Cup...\n",
      "3  ham,U dun say so early hor... U c already then...\n",
      "4  ham,\"Nah I don't think he goes to usf, he live...\n"
     ]
    }
   ],
   "source": [
    "import pandas as pd\n",
    "#Load the dataset\n",
    "data = pd.read_csv(r'C:\\Users\\burma\\Spam Detection Project\\spam.csv', sep='\\t', encoding='latin-1')\n",
    "print(data.head())"
   ]
  },
  {
   "cell_type": "code",
   "execution_count": 278,
   "id": "d1c8cd3a-584e-44ec-ab56-72d25c577dac",
   "metadata": {},
   "outputs": [
    {
     "name": "stdout",
     "output_type": "stream",
     "text": [
      "   label                                            message\n",
      "0    ham  Go until jurong point, crazy.. Available only ...\n",
      "1    ham                      Ok lar... Joking wif u oni...\n",
      "2   spam  Free entry in 2 a wkly comp to win FA Cup fina...\n",
      "3    ham  U dun say so early hor... U c already then say...\n",
      "4    ham  Nah I don't think he goes to usf, he lives aro...\n",
      "5   spam  FreeMsg Hey there darling it's been 3 week's n...\n",
      "6    ham  Even my brother is not like to speak with me. ...\n",
      "7    ham  As per your request 'Melle Melle (Oru Minnamin...\n",
      "8   spam  WINNER!! As a valued network customer you have...\n",
      "9   spam  Had your mobile 11 months or more? U R entitle...\n",
      "10   ham  I'm gonna be home soon and i don't want to tal...\n",
      "11  spam  SIX chances to win CASH! From 100 to 20,000 po...\n",
      "12  spam  URGENT! You have won a 1 week FREE membership ...\n",
      "13   ham  I've been searching for the right words to tha...\n",
      "14   ham                I HAVE A DATE ON SUNDAY WITH WILL!!\n",
      "15  spam  XXXMobileMovieClub: To use your credit, click ...\n",
      "16   ham                         Oh k...i'm watching here:)\n",
      "17   ham  Eh u remember how 2 spell his name... Yes i di...\n",
      "18   ham  Fine if thatåÕs the way u feel. ThatåÕs the wa...\n",
      "19  spam  England v Macedonia - dont miss the goals/team...\n",
      "20   ham          Is that seriously how you spell his name?\n",
      "21   ham  IÛ÷m going to try for 2 months ha ha only joking\n",
      "22   ham  So Ì_ pay first lar... Then when is da stock c...\n",
      "23   ham  Aft i finish my lunch then i go str down lor. ...\n",
      "24   ham  Ffffffffff. Alright no way I can meet up with ...\n"
     ]
    }
   ],
   "source": [
    "import pandas as pd\n",
    "\n",
    "# Load dataset properly with correct delimiter\n",
    "data = pd.read_csv(r'C:\\Users\\burma\\Spam Detection Project\\spam.csv', encoding='latin-1')\n",
    "\n",
    "# Rename columns properly if needed\n",
    "data.columns = ['label', 'message', 'col1', 'col2', 'col3']\n",
    "\n",
    "# Drop unnecessary columns (if empty)\n",
    "data = data[['label', 'message']]\n",
    "\n",
    "# Display first few rows\n",
    "print(data.head(25))\n"
   ]
  },
  {
   "cell_type": "code",
   "execution_count": 282,
   "id": "b83b53fb-8bee-4c74-bd56-73b4059e36e8",
   "metadata": {},
   "outputs": [
    {
     "name": "stdout",
     "output_type": "stream",
     "text": [
      "  label                                            message\n",
      "0   ham  go jurong point crazy available bugis n great ...\n",
      "1   ham                            ok lar joking wif u oni\n",
      "2  spam  free entry 2 wkly comp win fa cup final tkts 2...\n",
      "3   ham                u dun say early hor u c already say\n",
      "4   ham           nah dont think go usf life around though\n"
     ]
    }
   ],
   "source": [
    "# Apply preprocessing\n",
    "data['message'] = data['message'].apply(preprocess_message)\n",
    "\n",
    "# Check final dataset\n",
    "print(data.head())\n"
   ]
  },
  {
   "cell_type": "code",
   "execution_count": 211,
   "id": "2a8b022d-3cc6-48b0-8990-79d7e5b526cb",
   "metadata": {},
   "outputs": [
    {
     "name": "stderr",
     "output_type": "stream",
     "text": [
      "[nltk_data] Downloading package stopwords to\n",
      "[nltk_data]     C:\\Users\\burma\\AppData\\Roaming\\nltk_data...\n",
      "[nltk_data]   Package stopwords is already up-to-date!\n",
      "[nltk_data] Downloading package wordnet to\n",
      "[nltk_data]     C:\\Users\\burma\\AppData\\Roaming\\nltk_data...\n",
      "[nltk_data]   Package wordnet is already up-to-date!\n",
      "[nltk_data] Downloading package omw-1.4 to\n",
      "[nltk_data]     C:\\Users\\burma\\AppData\\Roaming\\nltk_data...\n",
      "[nltk_data]   Package omw-1.4 is already up-to-date!\n",
      "[nltk_data] Downloading package punkt to\n",
      "[nltk_data]     C:\\Users\\burma\\AppData\\Roaming\\nltk_data...\n",
      "[nltk_data]   Package punkt is already up-to-date!\n"
     ]
    },
    {
     "name": "stdout",
     "output_type": "stream",
     "text": [
      "Index(['label', 'message'], dtype='object')\n"
     ]
    }
   ],
   "source": [
    "import string\n",
    "import nltk\n",
    "from nltk.corpus import stopwords\n",
    "from nltk.stem import WordNetLemmatizer\n",
    "\n",
    "# Download necessary NLTK data\n",
    "nltk.download('stopwords')\n",
    "nltk.download('wordnet')\n",
    "nltk.download('omw-1.4')\n",
    "nltk.download('punkt')\n",
    "\n",
    "# Initialize lemmatizer and stopwords\n",
    "lemmatizer = WordNetLemmatizer()\n",
    "stop_words = set(stopwords.words('english'))\n",
    "\n",
    "# Function to preprocess text\n",
    "def preprocess_message(message):\n",
    "    if isinstance(message, str):  # Ensure input is a string\n",
    "        message = message.lower()  # Lowercase\n",
    "        message = \"\".join([char for char in message if char not in string.punctuation])  # Remove punctuation\n",
    "        tokens = message.split()  # Tokenize\n",
    "        tokens = [lemmatizer.lemmatize(word) for word in tokens if word not in stop_words]  # Lemmatize and remove stopwords\n",
    "        return \" \".join(tokens)\n",
    "    else:\n",
    "        return \"\"  # Return empty string for non-string values\n",
    "\n",
    "# Apply preprocessing to the dataset\n",
    "if 'message' in data.columns:\n",
    "    data['message'] = data['message'].apply(preprocess_message)\n",
    "else:\n",
    "    print(\"Column 'message' not found in dataset!\")\n",
    "print(data.columns)"
   ]
  },
  {
   "cell_type": "code",
   "execution_count": 212,
   "id": "de0f79cd-76cd-44f4-83b2-ffb129a2ec44",
   "metadata": {},
   "outputs": [
    {
     "name": "stdout",
     "output_type": "stream",
     "text": [
      "  label                                            message\n",
      "0   ham  go jurong point crazy available bugis n great ...\n",
      "1   ham                            ok lar joking wif u oni\n",
      "2  spam  free entry 2 wkly comp win fa cup final tkts 2...\n",
      "3   ham                u dun say early hor u c already say\n",
      "4   ham           nah dont think go usf life around though\n"
     ]
    }
   ],
   "source": [
    "print(data.head())"
   ]
  },
  {
   "cell_type": "code",
   "execution_count": 214,
   "id": "f15ac01e-fbd4-42d9-b9bd-c1be1becdb2c",
   "metadata": {},
   "outputs": [
    {
     "name": "stdout",
     "output_type": "stream",
     "text": [
      "Shape of X (features): (5572, 3000)\n",
      "Shape of y (labels): (5572,)\n"
     ]
    }
   ],
   "source": [
    "from sklearn.feature_extraction.text import TfidfVectorizer\n",
    "\n",
    "# Initialize TF-IDF Vectorizer\n",
    "tfidf = TfidfVectorizer(max_features=3000)\n",
    "\n",
    "# Transform the text messages into TF-IDF features (numerical data)\n",
    "X = tfidf.fit_transform(data['message']).toarray()\n",
    "\n",
    "# Convert the labels to binary values (spam = 1, ham = 0)\n",
    "data['label'] = data['label'].map({'spam': 1, 'ham': 0})\n",
    "\n",
    "# Separate features (X) and labels (y)\n",
    "y = data['label']\n",
    "\n",
    "# Display shapes of X and y to verify\n",
    "print(\"Shape of X (features):\", X.shape)\n",
    "print(\"Shape of y (labels):\", y.shape)\n"
   ]
  },
  {
   "cell_type": "code",
   "execution_count": 218,
   "id": "830afd4c-5dc9-4532-a07c-bd166ada2160",
   "metadata": {},
   "outputs": [
    {
     "name": "stdout",
     "output_type": "stream",
     "text": [
      "Shape of X_train: (4457, 3000)\n",
      "Shape of X_test: (1115, 3000)\n",
      "Shape of y_train: (4457,)\n",
      "Shape of y_test: (1115,)\n"
     ]
    }
   ],
   "source": [
    "from sklearn.model_selection import train_test_split\n",
    "\n",
    "# Split the data (80% for training, 20% for testing)\n",
    "X_train, X_test, y_train, y_test = train_test_split(X, y, test_size=0.2, random_state=42)\n",
    "\n",
    "# Display the shapes of training and testing sets\n",
    "print(\"Shape of X_train:\", X_train.shape)\n",
    "print(\"Shape of X_test:\", X_test.shape)\n",
    "print(\"Shape of y_train:\", y_train.shape)\n",
    "print(\"Shape of y_test:\", y_test.shape)\n"
   ]
  },
  {
   "cell_type": "code",
   "execution_count": 220,
   "id": "8925b244-8c99-4b78-9321-2090aa4e2d93",
   "metadata": {},
   "outputs": [
    {
     "name": "stdout",
     "output_type": "stream",
     "text": [
      "label      0\n",
      "message    0\n",
      "dtype: int64\n"
     ]
    }
   ],
   "source": [
    "# Check for missing values in the dataset\n",
    "print(data.isnull().sum())\n"
   ]
  },
  {
   "cell_type": "code",
   "execution_count": 222,
   "id": "42be86e4-7e8d-4c26-8007-f8ff794c700c",
   "metadata": {},
   "outputs": [
    {
     "name": "stdout",
     "output_type": "stream",
     "text": [
      "label      0\n",
      "message    0\n",
      "dtype: int64\n"
     ]
    }
   ],
   "source": [
    "# Drop rows with missing values\n",
    "data = data.dropna()\n",
    "\n",
    "# Re-check if NaN values are removed\n",
    "print(data.isnull().sum())"
   ]
  },
  {
   "cell_type": "code",
   "execution_count": 142,
   "id": "976d92e2-7a56-42d9-b738-751b57b1e654",
   "metadata": {},
   "outputs": [
    {
     "name": "stdout",
     "output_type": "stream",
     "text": [
      "   label                                            message\n",
      "0      0  go jurong point crazy available bugis n great ...\n",
      "1      0                            ok lar joking wif u oni\n",
      "2      1  free entry 2 wkly comp win fa cup final tkts 2...\n",
      "3      0                u dun say early hor u c already say\n",
      "4      0           nah dont think go usf life around though\n"
     ]
    }
   ],
   "source": [
    "print(data.head())"
   ]
  },
  {
   "cell_type": "code",
   "execution_count": 226,
   "id": "9932c167-9b8c-4f3b-8986-7a888ee43d76",
   "metadata": {},
   "outputs": [
    {
     "name": "stdout",
     "output_type": "stream",
     "text": [
      "Accuracy: 0.9766816143497757\n",
      "              precision    recall  f1-score   support\n",
      "\n",
      "           0       0.97      1.00      0.99       965\n",
      "           1       1.00      0.83      0.91       150\n",
      "\n",
      "    accuracy                           0.98      1115\n",
      "   macro avg       0.99      0.91      0.95      1115\n",
      "weighted avg       0.98      0.98      0.98      1115\n",
      "\n"
     ]
    }
   ],
   "source": [
    "#naive bayes model\n",
    "from sklearn.model_selection import train_test_split\n",
    "from sklearn.naive_bayes import MultinomialNB\n",
    "from sklearn.metrics import accuracy_score, classification_report\n",
    "\n",
    "# Split data\n",
    "X_train, X_test, y_train, y_test = train_test_split(X, y, test_size=0.2, random_state=42)\n",
    "\n",
    "# Train the Naive Bayes model\n",
    "nb = MultinomialNB()\n",
    "nb.fit(X_train, y_train)\n",
    "\n",
    "# Make predictions\n",
    "y_pred = nb.predict(X_test)\n",
    "\n",
    "# Evaluate the model\n",
    "accuracy = accuracy_score(y_test, y_pred)\n",
    "print(\"Accuracy:\", accuracy)\n",
    "\n",
    "# Display classification report\n",
    "print(classification_report(y_test, y_pred))\n"
   ]
  },
  {
   "cell_type": "code",
   "execution_count": 228,
   "id": "420ef6b2-5a29-4cb4-80ae-bbd74b85cd92",
   "metadata": {},
   "outputs": [
    {
     "name": "stdout",
     "output_type": "stream",
     "text": [
      "   label                                            message\n",
      "0      0  go jurong point crazy available bugis n great ...\n",
      "1      0                            ok lar joking wif u oni\n",
      "2      1  free entry 2 wkly comp win fa cup final tkts 2...\n",
      "3      0                u dun say early hor u c already say\n",
      "4      0           nah dont think go usf life around though\n",
      "<class 'pandas.core.frame.DataFrame'>\n",
      "RangeIndex: 5572 entries, 0 to 5571\n",
      "Data columns (total 2 columns):\n",
      " #   Column   Non-Null Count  Dtype \n",
      "---  ------   --------------  ----- \n",
      " 0   label    5572 non-null   int64 \n",
      " 1   message  5572 non-null   object\n",
      "dtypes: int64(1), object(1)\n",
      "memory usage: 87.2+ KB\n",
      "None\n"
     ]
    }
   ],
   "source": [
    "print(data.head())  # Display the first few rows\n",
    "print(data.info())  # Show column data types and missing values\n"
   ]
  },
  {
   "cell_type": "code",
   "execution_count": 192,
   "id": "571aafba-3052-450e-8dff-27fb805ea446",
   "metadata": {},
   "outputs": [
    {
     "name": "stdout",
     "output_type": "stream",
     "text": [
      "[0 1]\n"
     ]
    }
   ],
   "source": [
    "print(data['label'].unique())  # Display unique label values\n"
   ]
  },
  {
   "cell_type": "code",
   "execution_count": 230,
   "id": "22cdf85b-6fcb-4d64-95c7-c0da00cfb8f9",
   "metadata": {},
   "outputs": [
    {
     "name": "stderr",
     "output_type": "stream",
     "text": [
      "Matplotlib is building the font cache; this may take a moment.\n"
     ]
    },
    {
     "data": {
      "image/png": "[encoded data removed]",
      "text/plain": [
       "<Figure size 640x480 with 2 Axes>"
      ]
     },
     "metadata": {},
     "output_type": "display_data"
    }
   ],
   "source": [
    "from sklearn.metrics import confusion_matrix\n",
    "import seaborn as sns\n",
    "import matplotlib.pyplot as plt\n",
    "\n",
    "# Generate confusion matrix\n",
    "cm = confusion_matrix(y_test, y_pred)\n",
    "\n",
    "# Plot the confusion matrix\n",
    "sns.heatmap(cm, annot=True, fmt='d', cmap='Blues')\n",
    "plt.xlabel('Predicted')\n",
    "plt.ylabel('Actual')\n",
    "plt.title('Confusion Matrix')\n",
    "plt.show()\n"
   ]
  },
  {
   "cell_type": "code",
   "execution_count": 232,
   "id": "ef4da7b8-4e9d-4d65-ba48-a66a4998a477",
   "metadata": {},
   "outputs": [
    {
     "name": "stdout",
     "output_type": "stream",
     "text": [
      "Accuracy: 0.9838565022421525\n"
     ]
    }
   ],
   "source": [
    "from sklearn.naive_bayes import MultinomialNB\n",
    "\n",
    "# Try different smoothing values (alpha)\n",
    "nb = MultinomialNB(alpha=0.1)\n",
    "nb.fit(X_train, y_train)\n",
    "y_pred = nb.predict(X_test)\n",
    "\n",
    "print(\"Accuracy:\", accuracy_score(y_test, y_pred))\n"
   ]
  },
  {
   "cell_type": "code",
   "execution_count": 234,
   "id": "7dcd16c3-167f-410f-8f1c-f58403802908",
   "metadata": {},
   "outputs": [],
   "source": [
    "# Example: Include bi-grams (word pairs) in the feature set\n",
    "tfidf = TfidfVectorizer(max_features=3000, ngram_range=(1, 2), min_df=2)\n",
    "X = tfidf.fit_transform(data['message']).toarray()\n"
   ]
  },
  {
   "cell_type": "code",
   "execution_count": 236,
   "id": "54124752-3b25-4ce7-8685-4ef4a2f28c24",
   "metadata": {},
   "outputs": [
    {
     "name": "stdout",
     "output_type": "stream",
     "text": [
      "Logistic Regression Accuracy: 0.9524663677130045\n"
     ]
    }
   ],
   "source": [
    "from sklearn.linear_model import LogisticRegression\n",
    "\n",
    "lr = LogisticRegression()\n",
    "lr.fit(X_train, y_train)\n",
    "y_pred_lr = lr.predict(X_test)\n",
    "\n",
    "print(\"Logistic Regression Accuracy:\", accuracy_score(y_test, y_pred_lr))\n"
   ]
  },
  {
   "cell_type": "code",
   "execution_count": 238,
   "id": "5de68a91-dc2e-4f9b-af01-d1111d1e7eca",
   "metadata": {},
   "outputs": [
    {
     "name": "stdout",
     "output_type": "stream",
     "text": [
      "Requirement already satisfied: flask in c:\\users\\burma\\anaconda3\\lib\\site-packages (3.0.3)Note: you may need to restart the kernel to use updated packages.\n",
      "\n",
      "Requirement already satisfied: Werkzeug>=3.0.0 in c:\\users\\burma\\anaconda3\\lib\\site-packages (from flask) (3.0.3)\n",
      "Requirement already satisfied: Jinja2>=3.1.2 in c:\\users\\burma\\anaconda3\\lib\\site-packages (from flask) (3.1.4)\n",
      "Requirement already satisfied: itsdangerous>=2.1.2 in c:\\users\\burma\\anaconda3\\lib\\site-packages (from flask) (2.2.0)\n",
      "Requirement already satisfied: click>=8.1.3 in c:\\users\\burma\\anaconda3\\lib\\site-packages (from flask) (8.1.7)\n",
      "Requirement already satisfied: blinker>=1.6.2 in c:\\users\\burma\\anaconda3\\lib\\site-packages (from flask) (1.6.2)\n",
      "Requirement already satisfied: colorama in c:\\users\\burma\\anaconda3\\lib\\site-packages (from click>=8.1.3->flask) (0.4.6)\n",
      "Requirement already satisfied: MarkupSafe>=2.0 in c:\\users\\burma\\anaconda3\\lib\\site-packages (from Jinja2>=3.1.2->flask) (2.1.3)\n"
     ]
    }
   ],
   "source": [
    "pip install flask\n"
   ]
  },
  {
   "cell_type": "code",
   "execution_count": 240,
   "id": "86ecf522-a444-4981-9475-7956e6558fbe",
   "metadata": {},
   "outputs": [],
   "source": [
    "import joblib\n",
    "\n",
    "# Save the model\n",
    "joblib.dump(nb, 'spam_classifier_model.pkl')\n",
    "\n",
    "# Load the model\n",
    "model = joblib.load('spam_classifier_model.pkl')\n"
   ]
  },
  {
   "cell_type": "code",
   "execution_count": 244,
   "id": "d2558d98-4cb2-4c55-bb96-6771ec3100e4",
   "metadata": {},
   "outputs": [
    {
     "name": "stdout",
     "output_type": "stream",
     "text": [
      "This message is ham.\n"
     ]
    }
   ],
   "source": [
    "# Example of a new message\n",
    "new_message = [\"You have a meeting tommorrow.\"]\n",
    "\n",
    "# Preprocess the new message the same way as you did with the training data\n",
    "new_message_preprocessed = tfidf.transform(new_message).toarray()\n",
    "\n",
    "# Predict if it's spam (1) or ham (0)\n",
    "prediction = model.predict(new_message_preprocessed)\n",
    "\n",
    "# Output the result\n",
    "if prediction[0] == 1:\n",
    "    print(\"This message is spam.\")\n",
    "else:\n",
    "    print(\"This message is ham.\")\n"
   ]
  },
  {
   "cell_type": "code",
   "execution_count": null,
   "id": "b456894f-ac8a-494c-a6b2-4fa55607e12b",
   "metadata": {},
   "outputs": [],
   "source": []
  }
 ],
 "metadata": {
  "kernelspec": {
   "display_name": "Python 3 (ipykernel)",
   "language": "python",
   "name": "python3"
  },
  "language_info": {
   "codemirror_mode": {
    "name": "ipython",
    "version": 3
   },
   "file_extension": ".py",
   "mimetype": "text/x-python",
   "name": "python",
   "nbconvert_exporter": "python",
   "pygments_lexer": "ipython3",
   "version": "3.12.4"
  }
 },
 "nbformat": 4,
 "nbformat_minor": 5
}
